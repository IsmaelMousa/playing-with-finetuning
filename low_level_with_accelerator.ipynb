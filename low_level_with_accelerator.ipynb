{
  "nbformat": 4,
  "nbformat_minor": 0,
  "metadata": {
    "colab": {
      "provenance": []
    },
    "kernelspec": {
      "name": "python3",
      "display_name": "Python 3"
    },
    "language_info": {
      "name": "python"
    }
  },
  "cells": [
    {
      "cell_type": "markdown",
      "source": [
        "## Manual Training With `Accelerate`"
      ],
      "metadata": {
        "id": "oHyqWPib2iJs"
      }
    },
    {
      "cell_type": "markdown",
      "source": [
        "#### Prepare The Training Environment"
      ],
      "metadata": {
        "id": "hFrNO__T26Ww"
      }
    },
    {
      "cell_type": "code",
      "execution_count": null,
      "metadata": {
        "id": "YurcdZL62dhW"
      },
      "outputs": [],
      "source": [
        "# 1. loading the tokenizer & model\n",
        "from transformers import AutoTokenizer, AutoModelForSequenceClassification\n",
        "\n",
        "\n",
        "checkpoint = \"bert-base-uncased\"\n",
        "\n",
        "tokenizer = AutoTokenizer.from_pretrained(checkpoint)\n",
        "model = AutoModelForSequenceClassification.from_pretrained(checkpoint)"
      ]
    },
    {
      "cell_type": "code",
      "source": [
        "# 2. loading the datasets\n",
        "from datasets import load_dataset\n",
        "\n",
        "\n",
        "dataset = load_dataset(\"glue\", \"mrpc\")"
      ],
      "metadata": {
        "id": "reJQ98cn2jHu"
      },
      "execution_count": null,
      "outputs": []
    },
    {
      "cell_type": "code",
      "source": [
        "# 3. tokenizing the datasets\n",
        "def tokenize_function(example):\n",
        "  \"\"\"\n",
        "  Responsible for tokenizing the datasets.\n",
        "  \"\"\"\n",
        "  return tokenizer(example[\"sentence1\"], example[\"sentence2\"], truncation=True)\n",
        "\n",
        "tokenized_datasets = dataset.map(tokenize_function, batched=True)"
      ],
      "metadata": {
        "id": "E63NcN3p2jNG"
      },
      "execution_count": null,
      "outputs": []
    },
    {
      "cell_type": "code",
      "source": [
        "# 4. prepare the collate function\n",
        "from transformers import DataCollatorWithPadding\n",
        "\n",
        "\n",
        "data_collator = DataCollatorWithPadding(tokenizer=tokenizer)"
      ],
      "metadata": {
        "id": "tBxMiaUb2jSp"
      },
      "execution_count": null,
      "outputs": []
    },
    {
      "cell_type": "code",
      "source": [
        "# 5. remove non-numerical columns, rename label column to labels and set the format to torch tensors\n",
        "tokenized_datasets = tokenized_datasets.remove_columns([\"sentence1\", \"sentence2\", \"idx\"])\n",
        "tokenized_datasets = tokenized_datasets.rename_column(\"label\", \"labels\")\n",
        "tokenized_datasets.set_format(\"torch\")"
      ],
      "metadata": {
        "id": "NkL53VZh2jXz"
      },
      "execution_count": null,
      "outputs": []
    },
    {
      "cell_type": "code",
      "source": [
        "# 6. batching & padding the datasets\n",
        "from torch.utils.data import DataLoader\n",
        "\n",
        "\n",
        "train_dataloader = DataLoader(tokenized_datasets[\"train\"], shuffle=True, batch_size=8, collate_fn=data_collator)\n",
        "\n",
        "eval_dataloader = DataLoader(tokenized_datasets[\"validation\"], batch_size=8, collate_fn=data_collator)"
      ],
      "metadata": {
        "id": "TpCdU_jc2jc5"
      },
      "execution_count": null,
      "outputs": []
    },
    {
      "cell_type": "code",
      "source": [
        "# ensure that the batching & padding is work as expected\n",
        "for batch in train_dataloader:\n",
        "    break\n",
        "{k: v.shape for k, v in batch.items()}"
      ],
      "metadata": {
        "id": "FXURcoU13IzW"
      },
      "execution_count": null,
      "outputs": []
    },
    {
      "cell_type": "code",
      "source": [
        "# ensure that the model also work as expected\n",
        "outputs = model(**batch)\n",
        "\n",
        "outputs.loss, outputs.logits.shape"
      ],
      "metadata": {
        "id": "JhqfVukV3I4B"
      },
      "execution_count": null,
      "outputs": []
    },
    {
      "cell_type": "markdown",
      "source": [
        "#### The Optimizer & Learning Rate Scheduler"
      ],
      "metadata": {
        "id": "GDnperZc3VIm"
      }
    },
    {
      "cell_type": "code",
      "source": [
        "# 7. prepare the AdamW optimizing algorithem\n",
        "from transformers import AdamW\n",
        "\n",
        "\n",
        "optimizer = AdamW(model.parameters(), lr=5e-5)"
      ],
      "metadata": {
        "id": "rpPPA8Sa2jiS"
      },
      "execution_count": null,
      "outputs": []
    },
    {
      "cell_type": "code",
      "source": [
        "# 8. prepare the learning rate scheduler\n",
        "from transformers import get_scheduler\n",
        "\n",
        "\n",
        "num_epochs = 3\n",
        "\n",
        "num_training_steps = num_epochs * len(train_dataloader)\n",
        "\n",
        "lr_scheduler = get_scheduler(\"linear\", optimizer=optimizer, num_warmup_steps=0, num_training_steps=num_training_steps)\n",
        "\n",
        "print(num_training_steps)"
      ],
      "metadata": {
        "id": "MZJkAi4p3NVi"
      },
      "execution_count": null,
      "outputs": []
    },
    {
      "cell_type": "markdown",
      "source": [
        "#### The Training Loop"
      ],
      "metadata": {
        "id": "6SjNTDcj3aV2"
      }
    },
    {
      "cell_type": "code",
      "source": [
        "# 9. prepare the accelerator to enable distributed training on multiple GPUs or TPUs\n",
        "from accelerate import Accelerator\n",
        "\n",
        "\n",
        "accelerator = Accelerator()\n",
        "\n",
        "train_dl, eval_dl, model, optimizer = accelerator.prepare(train_dataloader, eval_dataloader, model, optimizer)"
      ],
      "metadata": {
        "id": "8lyzq3OZ3Nat"
      },
      "execution_count": null,
      "outputs": []
    },
    {
      "cell_type": "code",
      "source": [
        "# 10. start the training loop, and here we are using tqdm library to monitor progress\n",
        "from tqdm.auto import tqdm\n",
        "\n",
        "\n",
        "progress_bar = tqdm(range(num_training_steps))\n",
        "\n",
        "model.train()\n",
        "for epoch in range(num_epochs):\n",
        "    for batch in train_dl:\n",
        "        outputs = model(**batch)\n",
        "        loss = outputs.loss\n",
        "        accelerator.backward(loss)\n",
        "\n",
        "        optimizer.step()\n",
        "        lr_scheduler.step()\n",
        "        optimizer.zero_grad()\n",
        "        progress_bar.update(1)"
      ],
      "metadata": {
        "id": "lzx01sfd3NfU"
      },
      "execution_count": null,
      "outputs": []
    }
  ]
}